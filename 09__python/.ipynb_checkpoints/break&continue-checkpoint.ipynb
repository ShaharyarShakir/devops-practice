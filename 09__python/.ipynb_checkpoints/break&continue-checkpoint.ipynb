{
 "cells": [
  {
   "cell_type": "code",
   "execution_count": 3,
   "id": "dc9fa428-f02f-42c3-afc8-fea8cffa9010",
   "metadata": {},
   "outputs": [
    {
     "ename": "IndentationError",
     "evalue": "expected an indented block after 'if' statement on line 12 (938087407.py, line 13)",
     "output_type": "error",
     "traceback": [
      "  \u001b[36mCell\u001b[39m\u001b[36m \u001b[39m\u001b[32mIn[3]\u001b[39m\u001b[32m, line 13\u001b[39m\n\u001b[31m    \u001b[39m\u001b[31mprint(\"Found my data\")\u001b[39m\n    ^\n\u001b[31mIndentationError\u001b[39m\u001b[31m:\u001b[39m expected an indented block after 'if' statement on line 12\n"
     ]
    }
   ],
   "source": [
    "# Break\n",
    "name=\"DevOps\"\n",
    "for i in name:\n",
    "    print(i)\n",
    "    if i == \"O\":\n",
    "        print(\"Found my data\")\n",
    "        break\n",
    "print(\"End of loop\")\n",
    "# Continue\n",
    "for i in name:\n",
    "    print(i)\n",
    "    if i == \"O\":\n",
    "        print(\"Found my data\")\n",
    "    continue\n",
    "    print(f\"value of i is: {i}\")\n",
    "print(\"End of continue loop\")"
   ]
  },
  {
   "cell_type": "code",
   "execution_count": null,
   "id": "6f8a5ebd-9d14-4c54-86d3-8e1d1c152641",
   "metadata": {},
   "outputs": [],
   "source": []
  }
 ],
 "metadata": {
  "kernelspec": {
   "display_name": "Python 3 (ipykernel)",
   "language": "python",
   "name": "python3"
  },
  "language_info": {
   "codemirror_mode": {
    "name": "ipython",
    "version": 3
   },
   "file_extension": ".py",
   "mimetype": "text/x-python",
   "name": "python",
   "nbconvert_exporter": "python",
   "pygments_lexer": "ipython3",
   "version": "3.13.5"
  }
 },
 "nbformat": 4,
 "nbformat_minor": 5
}
