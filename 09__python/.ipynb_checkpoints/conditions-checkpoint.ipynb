{
 "cells": [
  {
   "cell_type": "code",
   "execution_count": 10,
   "id": "91447f7f-5032-44ba-a411-b33c6fc1b511",
   "metadata": {},
   "outputs": [
    {
     "name": "stdout",
     "output_type": "stream",
     "text": [
      "Our IT organization has varies skills check yours\n",
      "find if we have the job or not\n"
     ]
    },
    {
     "name": "stdin",
     "output_type": "stream",
     "text": [
      "Enter the name of your skill to check:  bash\n"
     ]
    },
    {
     "ename": "NameError",
     "evalue": "name 'Development' is not defined",
     "output_type": "error",
     "traceback": [
      "\u001b[31m---------------------------------------------------------------------------\u001b[39m",
      "\u001b[31mNameError\u001b[39m                                 Traceback (most recent call last)",
      "\u001b[36mCell\u001b[39m\u001b[36m \u001b[39m\u001b[32mIn[10]\u001b[39m\u001b[32m, line 14\u001b[39m\n\u001b[32m     12\u001b[39m \u001b[38;5;28;01mif\u001b[39;00m usr_skill \u001b[38;5;129;01min\u001b[39;00m DevOps:\n\u001b[32m     13\u001b[39m     \u001b[38;5;28mprint\u001b[39m(\u001b[33mf\u001b[39m\u001b[33m\"\u001b[39m\u001b[33mWe have \u001b[39m\u001b[38;5;132;01m{\u001b[39;00musr_skill\u001b[38;5;132;01m}\u001b[39;00m\u001b[33m in Devops Team.\u001b[39m\u001b[33m\"\u001b[39m)\n\u001b[32m---> \u001b[39m\u001b[32m14\u001b[39m \u001b[38;5;28;01melif\u001b[39;00m usr_skill \u001b[38;5;129;01min\u001b[39;00m \u001b[43mDevelopment\u001b[49m:\n\u001b[32m     15\u001b[39m     \u001b[38;5;28mprint\u001b[39m(\u001b[33mf\u001b[39m\u001b[33m\"\u001b[39m\u001b[33mWe have \u001b[39m\u001b[38;5;132;01m{\u001b[39;00musr_skill\u001b[38;5;132;01m}\u001b[39;00m\u001b[33m in Development Team.\u001b[39m\u001b[33m\"\u001b[39m)\n\u001b[32m     16\u001b[39m \u001b[38;5;28;01melif\u001b[39;00m (usr_skill \u001b[38;5;129;01min\u001b[39;00m empl1.values()) \u001b[38;5;129;01mor\u001b[39;00m (usr_skill \u001b[38;5;129;01min\u001b[39;00m empl2.values()):\n",
      "\u001b[31mNameError\u001b[39m: name 'Development' is not defined"
     ]
    }
   ],
   "source": [
    "# if else \n",
    "\"\"\"\n",
    "our it organization\n",
    "\"\"\"\n",
    "print(\"Our IT organization has varies skills check yours\")\n",
    "print(\"find if we have the job or not\")\n",
    "DevOps =(\"Jenkins\", \"Linux\", \"Bash Scripting\", \"Docker\", \"Vagrant\", \"Kubernates\")\n",
    "Development=[\"Blockchain\", \"Web dev\", \"Software\", \"Mobile dev\"]\n",
    "empl1 ={\"Name\": \"Santa\", \"Skill\":\"Blockchain\", \"Code\":1249}\n",
    "empl2 ={\"Name\": \"Jonny\", \"Skill\":\"Docker\", \"Code\":1278}\n",
    "usr_skill = input(\"Enter the name of your skill to check: \").capitalize()\n",
    "if usr_skill in DevOps:\n",
    "    print(f\"We have {usr_skill} in Devops Team.\")\n",
    "elif usr_skill in Development:\n",
    "    print(f\"We have {usr_skill} in Development Team.\")\n",
    "elif (usr_skill in empl1.values()) or (usr_skill in empl2.values()):\n",
    "    print(f\"We have contracted employee with {usr_skill} in our Team.\")\n",
    "else:\n",
    "   print(\"Skill not found\")"
   ]
  },
  {
   "cell_type": "code",
   "execution_count": null,
   "id": "8227ff73-73e8-429a-8e55-ffc7d2bd4af3",
   "metadata": {},
   "outputs": [],
   "source": []
  }
 ],
 "metadata": {
  "kernelspec": {
   "display_name": "Python 3 (ipykernel)",
   "language": "python",
   "name": "python3"
  },
  "language_info": {
   "codemirror_mode": {
    "name": "ipython",
    "version": 3
   },
   "file_extension": ".py",
   "mimetype": "text/x-python",
   "name": "python",
   "nbconvert_exporter": "python",
   "pygments_lexer": "ipython3",
   "version": "3.13.5"
  }
 },
 "nbformat": 4,
 "nbformat_minor": 5
}
