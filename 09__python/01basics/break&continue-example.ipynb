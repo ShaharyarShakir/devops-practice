{
 "cells": [
  {
   "cell_type": "code",
   "execution_count": 12,
   "id": "4ba5a46f-9d63-4fdf-8957-b7f59d64b830",
   "metadata": {},
   "outputs": [
    {
     "name": "stdout",
     "output_type": "stream",
     "text": [
      "['Covaxin', 'Sputnik', 'CoronaVac', 'Pfizer', 'Moderna', 'AstraZenaca']\n",
      "Covaxin\n",
      "****** TESTING the VACCINE Covaxin*******\n",
      "#############################################\n",
      "Covaxin vaccine, Test Success\n",
      "#############################################\n",
      "\n"
     ]
    }
   ],
   "source": [
    "# Break\n",
    "import random\n",
    "VACCINES = [\"Moderna\", \"Pfizer\", \"Sputnik\", \"Covaxin\", \"AstraZenaca\", \"CoronaVac\"]\n",
    "random.shuffle(VACCINES)\n",
    "print(VACCINES)\n",
    "LUCKY = random.choice(VACCINES)\n",
    "print(LUCKY)\n",
    "for vac in VACCINES:\n",
    "    print(f\"****** TESTING the VACCINE {vac}*******\")\n",
    "    if vac == LUCKY:\n",
    "          print(\"#############################################\")\n",
    "          print(f\"{LUCKY} vaccine, Test Success\")\n",
    "          print(\"#############################################\")\n",
    "          print()\n",
    "          break\n",
    "    print(\"XXXXXXXXXXXXX\")\n",
    "    print(\"TEST Failed\")\n",
    "    print(\"XXXXXXXXXXXXXX\")\n"
   ]
  },
  {
   "cell_type": "code",
   "execution_count": 13,
   "id": "4689a67a-1f65-4926-86ab-5e4bec324f6c",
   "metadata": {},
   "outputs": [
    {
     "name": "stdout",
     "output_type": "stream",
     "text": [
      "['Sputnik', 'Covaxin', 'Moderna', 'AstraZenaca', 'CoronaVac', 'Pfizer']\n",
      "Pfizer\n",
      "****** TESTING the VACCINE Sputnik*******\n",
      "XXXXXXXXXXXXXXXXX\n",
      "TEST Failed\n",
      "XXXXXXXXXXXXXXXXX\n",
      "****** TESTING the VACCINE Covaxin*******\n",
      "XXXXXXXXXXXXXXXXX\n",
      "TEST Failed\n",
      "XXXXXXXXXXXXXXXXX\n",
      "****** TESTING the VACCINE Moderna*******\n",
      "XXXXXXXXXXXXXXXXX\n",
      "TEST Failed\n",
      "XXXXXXXXXXXXXXXXX\n",
      "****** TESTING the VACCINE AstraZenaca*******\n",
      "XXXXXXXXXXXXXXXXX\n",
      "TEST Failed\n",
      "XXXXXXXXXXXXXXXXX\n",
      "****** TESTING the VACCINE CoronaVac*******\n",
      "XXXXXXXXXXXXXXXXX\n",
      "TEST Failed\n",
      "XXXXXXXXXXXXXXXXX\n",
      "****** TESTING the VACCINE Pfizer*******\n",
      "#############################################\n",
      "Pfizer vaccine, Test Success\n",
      "#############################################\n",
      "\n"
     ]
    }
   ],
   "source": [
    "# Continue\n",
    "import random\n",
    "VACCINES = [\"Moderna\", \"Pfizer\", \"Sputnik\", \"Covaxin\", \"AstraZenaca\", \"CoronaVac\"]\n",
    "random.shuffle(VACCINES)\n",
    "print(VACCINES)\n",
    "LUCKY = random.choice(VACCINES)\n",
    "print(LUCKY)\n",
    "for vac in VACCINES:\n",
    "    print(f\"****** TESTING the VACCINE {vac}*******\")\n",
    "    if vac == LUCKY:\n",
    "          print(\"#############################################\")\n",
    "          print(f\"{LUCKY} vaccine, Test Success\")\n",
    "          print(\"#############################################\")\n",
    "          print()\n",
    "          continue\n",
    "    print(\"XXXXXXXXXXXXXXXXX\")\n",
    "    print(\"TEST Failed\")\n",
    "    print(\"XXXXXXXXXXXXXXXXX\")\n"
   ]
  },
  {
   "cell_type": "code",
   "execution_count": null,
   "id": "193317d2-9ac9-4526-9e5c-003d700f8849",
   "metadata": {},
   "outputs": [],
   "source": []
  }
 ],
 "metadata": {
  "kernelspec": {
   "display_name": "Python 3 (ipykernel)",
   "language": "python",
   "name": "python3"
  },
  "language_info": {
   "codemirror_mode": {
    "name": "ipython",
    "version": 3
   },
   "file_extension": ".py",
   "mimetype": "text/x-python",
   "name": "python",
   "nbconvert_exporter": "python",
   "pygments_lexer": "ipython3",
   "version": "3.13.5"
  }
 },
 "nbformat": 4,
 "nbformat_minor": 5
}
