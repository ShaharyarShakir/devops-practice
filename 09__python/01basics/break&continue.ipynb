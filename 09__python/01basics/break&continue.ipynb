{
 "cells": [
  {
   "cell_type": "code",
   "execution_count": 4,
   "id": "dc9fa428-f02f-42c3-afc8-fea8cffa9010",
   "metadata": {},
   "outputs": [
    {
     "name": "stdout",
     "output_type": "stream",
     "text": [
      "D\n",
      "e\n",
      "v\n",
      "O\n",
      "Found my data\n",
      "End of loop\n",
      "D\n",
      "e\n",
      "v\n",
      "O\n",
      "Found my data\n",
      "p\n",
      "s\n",
      "End of continue loop\n"
     ]
    }
   ],
   "source": [
    "# Break\n",
    "name=\"DevOps\"\n",
    "for i in name:\n",
    "    print(i)\n",
    "    if i == \"O\":\n",
    "        print(\"Found my data\")\n",
    "        break\n",
    "print(\"End of loop\")\n",
    "# Continue\n",
    "for i in name:\n",
    "    print(i)\n",
    "    if i == \"O\":\n",
    "        print(\"Found my data\")\n",
    "    continue\n",
    "    print(f\"value of i is: {i}\")\n",
    "print(\"End of continue loop\")"
   ]
  },
  {
   "cell_type": "code",
   "execution_count": null,
   "id": "6f8a5ebd-9d14-4c54-86d3-8e1d1c152641",
   "metadata": {},
   "outputs": [],
   "source": []
  }
 ],
 "metadata": {
  "kernelspec": {
   "display_name": "Python 3 (ipykernel)",
   "language": "python",
   "name": "python3"
  },
  "language_info": {
   "codemirror_mode": {
    "name": "ipython",
    "version": 3
   },
   "file_extension": ".py",
   "mimetype": "text/x-python",
   "name": "python",
   "nbconvert_exporter": "python",
   "pygments_lexer": "ipython3",
   "version": "3.13.5"
  }
 },
 "nbformat": 4,
 "nbformat_minor": 5
}
