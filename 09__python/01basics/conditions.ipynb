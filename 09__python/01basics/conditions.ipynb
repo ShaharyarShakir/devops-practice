{
 "cells": [
  {
   "cell_type": "code",
   "execution_count": 11,
   "id": "91447f7f-5032-44ba-a411-b33c6fc1b511",
   "metadata": {},
   "outputs": [
    {
     "name": "stdout",
     "output_type": "stream",
     "text": [
      "Our IT organization has varies skills check yours\n",
      "find if we have the job or not\n"
     ]
    },
    {
     "name": "stdin",
     "output_type": "stream",
     "text": [
      "Enter the name of your skill to check:  bash\n"
     ]
    },
    {
     "name": "stdout",
     "output_type": "stream",
     "text": [
      "Skill not found\n"
     ]
    }
   ],
   "source": [
    "# if else \n",
    "\"\"\"\n",
    "our it organization\n",
    "\"\"\"\n",
    "print(\"Our IT organization has varies skills check yours\")\n",
    "print(\"find if we have the job or not\")\n",
    "DevOps =(\"Jenkins\", \"Linux\", \"Bash Scripting\", \"Docker\", \"Vagrant\", \"Kubernates\")\n",
    "Development=[\"Blockchain\", \"Web dev\", \"Software\", \"Mobile dev\"]\n",
    "empl1 ={\"Name\": \"Santa\", \"Skill\":\"Blockchain\", \"Code\":1249}\n",
    "empl2 ={\"Name\": \"Jonny\", \"Skill\":\"Docker\", \"Code\":1278}\n",
    "usr_skill = input(\"Enter the name of your skill to check: \").capitalize()\n",
    "if usr_skill in DevOps:\n",
    "    print(f\"We have {usr_skill} in Devops Team.\")\n",
    "elif usr_skill in Development:\n",
    "    print(f\"We have {usr_skill} in Development Team.\")\n",
    "elif (usr_skill in empl1.values()) or (usr_skill in empl2.values()):\n",
    "    print(f\"We have contracted employee with {usr_skill} in our Team.\")\n",
    "else:\n",
    "   print(\"Skill not found\")"
   ]
  },
  {
   "cell_type": "code",
   "execution_count": null,
   "id": "8227ff73-73e8-429a-8e55-ffc7d2bd4af3",
   "metadata": {},
   "outputs": [],
   "source": []
  }
 ],
 "metadata": {
  "kernelspec": {
   "display_name": "Python 3 (ipykernel)",
   "language": "python",
   "name": "python3"
  },
  "language_info": {
   "codemirror_mode": {
    "name": "ipython",
    "version": 3
   },
   "file_extension": ".py",
   "mimetype": "text/x-python",
   "name": "python",
   "nbconvert_exporter": "python",
   "pygments_lexer": "ipython3",
   "version": "3.13.5"
  }
 },
 "nbformat": 4,
 "nbformat_minor": 5
}
